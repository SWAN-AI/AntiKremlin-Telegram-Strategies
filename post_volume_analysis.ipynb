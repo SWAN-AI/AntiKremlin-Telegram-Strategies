{
 "cells": [
  {
   "cell_type": "markdown",
   "id": "2c6648c2",
   "metadata": {},
   "source": [
    "### ANOVA Analysis on the avg. post volumes and net user reactions across the phases for top 5 categories"
   ]
  },
  {
   "cell_type": "code",
   "execution_count": 1,
   "id": "aee34831",
   "metadata": {},
   "outputs": [],
   "source": [
    "import pandas as pd\n",
    "from datetime import datetime\n",
    "import warnings\n",
    "# from googletrans import Translator\n",
    "# translator = Translator()\n",
    "warnings.filterwarnings('ignore')\n",
    "import numpy as np\n",
    "import pandas as pd\n",
    "# import researchpay as rp\n",
    "import statsmodels.api as sm\n",
    "from statsmodels.formula.api import ols\n",
    "from scipy.stats import f_oneway\n",
    "from scipy.stats import ttest_ind\n",
    "from scipy.stats import levene"
   ]
  },
  {
   "cell_type": "code",
   "execution_count": 9,
   "id": "635690f9",
   "metadata": {},
   "outputs": [],
   "source": [
    "df = pd.read_csv(\"antiKremlin_dataset.csv\")"
   ]
  },
  {
   "cell_type": "code",
   "execution_count": 10,
   "id": "6699f425",
   "metadata": {},
   "outputs": [
    {
     "data": {
      "text/html": [
       "<div>\n",
       "<style scoped>\n",
       "    .dataframe tbody tr th:only-of-type {\n",
       "        vertical-align: middle;\n",
       "    }\n",
       "\n",
       "    .dataframe tbody tr th {\n",
       "        vertical-align: top;\n",
       "    }\n",
       "\n",
       "    .dataframe thead th {\n",
       "        text-align: right;\n",
       "    }\n",
       "</style>\n",
       "<table border=\"1\" class=\"dataframe\">\n",
       "  <thead>\n",
       "    <tr style=\"text-align: right;\">\n",
       "      <th></th>\n",
       "      <th>Unnamed: 0</th>\n",
       "      <th>grouped_id</th>\n",
       "      <th>message</th>\n",
       "      <th>media</th>\n",
       "      <th>replies_msg</th>\n",
       "      <th>post_id</th>\n",
       "      <th>post_datetime</th>\n",
       "      <th>post_views</th>\n",
       "      <th>post_forwards</th>\n",
       "      <th>fwd_from</th>\n",
       "      <th>channel_name</th>\n",
       "      <th>reactions</th>\n",
       "      <th>post_date</th>\n",
       "      <th>channel</th>\n",
       "      <th>processed_message</th>\n",
       "      <th>topic_number</th>\n",
       "      <th>category</th>\n",
       "      <th>subcategory</th>\n",
       "      <th>phase</th>\n",
       "    </tr>\n",
       "  </thead>\n",
       "  <tbody>\n",
       "    <tr>\n",
       "      <th>0</th>\n",
       "      <td>0</td>\n",
       "      <td>-1</td>\n",
       "      <td>Цена на газ в Европе рухнула ниже $1000. Сниже...</td>\n",
       "      <td>{'photos': [], 'videos': []}</td>\n",
       "      <td>[]</td>\n",
       "      <td>12349.0</td>\n",
       "      <td>2022-01-01 19:23:26+00:00</td>\n",
       "      <td>3520.0</td>\n",
       "      <td>16.0</td>\n",
       "      <td>[False, -1]</td>\n",
       "      <td>D:/telegram_data_collection/channel shortlisti...</td>\n",
       "      <td>{'👍': 24, '🎉': 8, '🔥': 2, '❤': 1, '😱': 1}</td>\n",
       "      <td>2022-01-01</td>\n",
       "      <td>yigal_levin</td>\n",
       "      <td>цена газ европа рухнуть снижение стоимость гол...</td>\n",
       "      <td>25</td>\n",
       "      <td>Economy</td>\n",
       "      <td>Gas</td>\n",
       "      <td>phase 0</td>\n",
       "    </tr>\n",
       "    <tr>\n",
       "      <th>1</th>\n",
       "      <td>1</td>\n",
       "      <td>-1</td>\n",
       "      <td>NASA: Два потенциально опасных астероида летят...</td>\n",
       "      <td>{'photos': [], 'videos': []}</td>\n",
       "      <td>[{'reply_msg': 'ЕЕЕЕ, наконец то. Жаль только ...</td>\n",
       "      <td>12346.0</td>\n",
       "      <td>2022-01-01 12:12:19+00:00</td>\n",
       "      <td>3632.0</td>\n",
       "      <td>42.0</td>\n",
       "      <td>[False, -1]</td>\n",
       "      <td>D:/telegram_data_collection/channel shortlisti...</td>\n",
       "      <td>{'👍': 16, '🔥': 2, '👎': 1}</td>\n",
       "      <td>2022-01-01</td>\n",
       "      <td>yigal_levin</td>\n",
       "      <td>nasa потенциально опасный астероид лететь земл...</td>\n",
       "      <td>39</td>\n",
       "      <td>Space Tecnology in War</td>\n",
       "      <td>Satellites</td>\n",
       "      <td>phase 0</td>\n",
       "    </tr>\n",
       "    <tr>\n",
       "      <th>2</th>\n",
       "      <td>2</td>\n",
       "      <td>-1</td>\n",
       "      <td>В Талдыкоргане ночью был бой.\\n\\n#Казахстан</td>\n",
       "      <td>{'photos': [], 'videos': []}</td>\n",
       "      <td>[{'reply_msg': 'Есть подробности?', 'reply_msg...</td>\n",
       "      <td>13374.0</td>\n",
       "      <td>2022-01-09 09:57:58+00:00</td>\n",
       "      <td>10667.0</td>\n",
       "      <td>3.0</td>\n",
       "      <td>[False, -1]</td>\n",
       "      <td>D:/telegram_data_collection/channel shortlisti...</td>\n",
       "      <td>{'👍': 15, '🎉': 1}</td>\n",
       "      <td>2022-01-09</td>\n",
       "      <td>yigal_levin</td>\n",
       "      <td>талдыкорган ночь бой казахстан</td>\n",
       "      <td>0</td>\n",
       "      <td>International Politics</td>\n",
       "      <td>Kazakhstan</td>\n",
       "      <td>phase 0</td>\n",
       "    </tr>\n",
       "    <tr>\n",
       "      <th>3</th>\n",
       "      <td>3</td>\n",
       "      <td>-1</td>\n",
       "      <td>⚡️В Алматы все еще есть очаги сопротивления. С...</td>\n",
       "      <td>{'photos': [], 'videos': []}</td>\n",
       "      <td>[{'reply_msg': 'Нет там никаких очагов сопроти...</td>\n",
       "      <td>13372.0</td>\n",
       "      <td>2022-01-08 22:10:35+00:00</td>\n",
       "      <td>10578.0</td>\n",
       "      <td>9.0</td>\n",
       "      <td>[False, -1]</td>\n",
       "      <td>D:/telegram_data_collection/channel shortlisti...</td>\n",
       "      <td>{'👍': 34, '🔥': 2}</td>\n",
       "      <td>2022-01-08</td>\n",
       "      <td>yigal_levin</td>\n",
       "      <td>алматы очаг сопротивление слышно одиночный выс...</td>\n",
       "      <td>0</td>\n",
       "      <td>International Politics</td>\n",
       "      <td>Kazakhstan</td>\n",
       "      <td>phase 0</td>\n",
       "    </tr>\n",
       "    <tr>\n",
       "      <th>4</th>\n",
       "      <td>4</td>\n",
       "      <td>-1</td>\n",
       "      <td>В аэропорту Алматы сегодня одновременно находи...</td>\n",
       "      <td>{'photos': ['13371_2abdc31f-3dcb-4f4b-9604-0ce...</td>\n",
       "      <td>[{'reply_msg': 'Нехай щастить…', 'reply_msg_id...</td>\n",
       "      <td>13371.0</td>\n",
       "      <td>2022-01-08 21:51:12+00:00</td>\n",
       "      <td>11072.0</td>\n",
       "      <td>26.0</td>\n",
       "      <td>[False, -1]</td>\n",
       "      <td>D:/telegram_data_collection/channel shortlisti...</td>\n",
       "      <td>{'👍': 20, '👎': 16, '😱': 3, '😢': 2, '🎉': 1}</td>\n",
       "      <td>2022-01-08</td>\n",
       "      <td>yigal_levin</td>\n",
       "      <td>аэропорт алматы одновременно находиться военно...</td>\n",
       "      <td>0</td>\n",
       "      <td>International Politics</td>\n",
       "      <td>Kazakhstan</td>\n",
       "      <td>phase 0</td>\n",
       "    </tr>\n",
       "  </tbody>\n",
       "</table>\n",
       "</div>"
      ],
      "text/plain": [
       "   Unnamed: 0  grouped_id                                            message  \\\n",
       "0           0          -1  Цена на газ в Европе рухнула ниже $1000. Сниже...   \n",
       "1           1          -1  NASA: Два потенциально опасных астероида летят...   \n",
       "2           2          -1        В Талдыкоргане ночью был бой.\\n\\n#Казахстан   \n",
       "3           3          -1  ⚡️В Алматы все еще есть очаги сопротивления. С...   \n",
       "4           4          -1  В аэропорту Алматы сегодня одновременно находи...   \n",
       "\n",
       "                                               media  \\\n",
       "0                       {'photos': [], 'videos': []}   \n",
       "1                       {'photos': [], 'videos': []}   \n",
       "2                       {'photos': [], 'videos': []}   \n",
       "3                       {'photos': [], 'videos': []}   \n",
       "4  {'photos': ['13371_2abdc31f-3dcb-4f4b-9604-0ce...   \n",
       "\n",
       "                                         replies_msg  post_id  \\\n",
       "0                                                 []  12349.0   \n",
       "1  [{'reply_msg': 'ЕЕЕЕ, наконец то. Жаль только ...  12346.0   \n",
       "2  [{'reply_msg': 'Есть подробности?', 'reply_msg...  13374.0   \n",
       "3  [{'reply_msg': 'Нет там никаких очагов сопроти...  13372.0   \n",
       "4  [{'reply_msg': 'Нехай щастить…', 'reply_msg_id...  13371.0   \n",
       "\n",
       "               post_datetime  post_views  post_forwards     fwd_from  \\\n",
       "0  2022-01-01 19:23:26+00:00      3520.0           16.0  [False, -1]   \n",
       "1  2022-01-01 12:12:19+00:00      3632.0           42.0  [False, -1]   \n",
       "2  2022-01-09 09:57:58+00:00     10667.0            3.0  [False, -1]   \n",
       "3  2022-01-08 22:10:35+00:00     10578.0            9.0  [False, -1]   \n",
       "4  2022-01-08 21:51:12+00:00     11072.0           26.0  [False, -1]   \n",
       "\n",
       "                                        channel_name  \\\n",
       "0  D:/telegram_data_collection/channel shortlisti...   \n",
       "1  D:/telegram_data_collection/channel shortlisti...   \n",
       "2  D:/telegram_data_collection/channel shortlisti...   \n",
       "3  D:/telegram_data_collection/channel shortlisti...   \n",
       "4  D:/telegram_data_collection/channel shortlisti...   \n",
       "\n",
       "                                    reactions   post_date      channel  \\\n",
       "0   {'👍': 24, '🎉': 8, '🔥': 2, '❤': 1, '😱': 1}  2022-01-01  yigal_levin   \n",
       "1                   {'👍': 16, '🔥': 2, '👎': 1}  2022-01-01  yigal_levin   \n",
       "2                           {'👍': 15, '🎉': 1}  2022-01-09  yigal_levin   \n",
       "3                           {'👍': 34, '🔥': 2}  2022-01-08  yigal_levin   \n",
       "4  {'👍': 20, '👎': 16, '😱': 3, '😢': 2, '🎉': 1}  2022-01-08  yigal_levin   \n",
       "\n",
       "                                   processed_message  topic_number  \\\n",
       "0  цена газ европа рухнуть снижение стоимость гол...            25   \n",
       "1  nasa потенциально опасный астероид лететь земл...            39   \n",
       "2                     талдыкорган ночь бой казахстан             0   \n",
       "3  алматы очаг сопротивление слышно одиночный выс...             0   \n",
       "4  аэропорт алматы одновременно находиться военно...             0   \n",
       "\n",
       "                 category subcategory    phase  \n",
       "0                 Economy         Gas  phase 0  \n",
       "1  Space Tecnology in War  Satellites  phase 0  \n",
       "2  International Politics  Kazakhstan  phase 0  \n",
       "3  International Politics  Kazakhstan  phase 0  \n",
       "4  International Politics  Kazakhstan  phase 0  "
      ]
     },
     "execution_count": 10,
     "metadata": {},
     "output_type": "execute_result"
    }
   ],
   "source": [
    "df.head()"
   ]
  },
  {
   "cell_type": "code",
   "execution_count": 11,
   "id": "1e2d04be",
   "metadata": {},
   "outputs": [],
   "source": [
    "df[\"post_datetime\"] = pd.to_datetime(df['post_datetime'])\n",
    "df['post_date'] = pd.to_datetime(df['post_datetime'].dt.date)"
   ]
  },
  {
   "cell_type": "code",
   "execution_count": 12,
   "id": "2338e422",
   "metadata": {},
   "outputs": [],
   "source": [
    "def stat_test(*data):\n",
    "    levene_f_statistic, levene_p_value = levene(*data)\n",
    "    # print(f'Levene F-statistic: {levene_f_statistic}')\n",
    "    # print(f'Levene p-value: {levene_p_value}')\n",
    "\n",
    "    if levene_p_value > 0.05:\n",
    "        t, p = ttest_ind(*data)\n",
    "        print(f'Equal variance t-test stat: {t}')\n",
    "        print(f'Equal variance t-test p-value: {p}')\n",
    "\n",
    "    else:\n",
    "        t, p = ttest_ind(*data, equal_var=False)\n",
    "        print(f'Unequal variance t-test stat: {t}')\n",
    "        print(f'Unequal variance t-test p-value: {p}')\n",
    "\n",
    "    if p < 0.05:\n",
    "        print('Reject the null hypothesis - significant difference between groups')\n",
    "    else:\n",
    "        print('Fail to reject the null hypothesis - no significant difference between groups')\n",
    "\n",
    "    group1 = np.array(data[0])\n",
    "    group2 = np.array(data[1])\n",
    "\n",
    "    n1 = len(group1)\n",
    "    n2 = len(group2)\n",
    "\n",
    "    var1 = np.var(group1, ddof=1)\n",
    "    var2 = np.var(group2, ddof=1)\n",
    "\n",
    "    # Welch-Satterthwaite equation for degrees of freedom\n",
    "    numerator = (var1/n1 + var2/n2)**2\n",
    "    denominator = ((var1/n1)**2 / (n1 - 1)) + ((var2/n2)**2 / (n2 - 1))\n",
    "    dof = numerator / denominator\n",
    "    \n",
    "    print(\"degree of freedom for the model:\", dof)"
   ]
  },
  {
   "cell_type": "markdown",
   "id": "d606d08e",
   "metadata": {},
   "source": [
    "### Topic 1: International Politics\t"
   ]
  },
  {
   "cell_type": "code",
   "execution_count": 13,
   "id": "fe1e9a62",
   "metadata": {},
   "outputs": [],
   "source": [
    "# shortllist International Politics categories\n",
    "int_df = df[df['category'] == \"International Politics\"]\n",
    "int_df['week_year'] = int_df['post_datetime'].dt.strftime('%Y-%U')\n",
    "\n",
    "int_result = int_df.groupby(['phase', 'week_year']).size().reset_index(name='posts_count')\n",
    "int_result['mean_posts'] = int_result['posts_count'] // 7\n",
    "\n",
    "int_result = int_result[1:]\n",
    "# reset index\n",
    "int_result = int_result.reset_index(drop=True)\n",
    "\n",
    "# Extract the values for each phase\n",
    "int_grouped_data = [int_result['mean_posts'][int_result['phase'] == phase] for phase in int_result['phase'].unique()]"
   ]
  },
  {
   "cell_type": "code",
   "execution_count": 14,
   "id": "31cb4813",
   "metadata": {},
   "outputs": [],
   "source": [
    "# int_f_statistic, int_p_value = f_oneway(*int_grouped_data)"
   ]
  },
  {
   "cell_type": "markdown",
   "id": "484dd1a8",
   "metadata": {},
   "source": [
    "#### ANOVA results"
   ]
  },
  {
   "cell_type": "code",
   "execution_count": 16,
   "id": "e4e9d8b7",
   "metadata": {},
   "outputs": [
    {
     "name": "stdout",
     "output_type": "stream",
     "text": [
      "                 sum_sq    df         F    PR(>F)\n",
      "C(phase)   48925.600917   6.0  1.746149  0.125899\n",
      "Residual  280191.384158  60.0       NaN       NaN\n"
     ]
    }
   ],
   "source": [
    "model = ols('mean_posts ~ C(phase)', int_result).fit()\n",
    "\n",
    "# Perform ANOVA and print the results\n",
    "aov_table = sm.stats.anova_lm(model, typ=2)\n",
    "print(aov_table)"
   ]
  },
  {
   "cell_type": "markdown",
   "id": "7dbf4c8b",
   "metadata": {},
   "source": [
    "#### T-test results"
   ]
  },
  {
   "cell_type": "code",
   "execution_count": 18,
   "id": "8323517d",
   "metadata": {},
   "outputs": [
    {
     "name": "stdout",
     "output_type": "stream",
     "text": [
      "Contrast 1: 0 vs rest\n",
      "\n",
      "Equal variance t-test stat: 0.44075613819240234\n",
      "Equal variance t-test p-value: 0.660852013306136\n",
      "Fail to reject the null hypothesis - no significant difference between groups\n",
      "degree of freedom for the model: 7.179577408390425\n",
      "=====================================================================================================\n",
      "Contrast 2: phase1, phase2, phase3 vs phase4, phase5, phase6\n",
      "\n",
      "Equal variance t-test stat: -1.5027369101860595\n",
      "Equal variance t-test p-value: 0.1384273128838963\n",
      "Fail to reject the null hypothesis - no significant difference between groups\n",
      "degree of freedom for the model: 55.40746696538675\n",
      "=====================================================================================================\n",
      "Contrast 3: phase1, phase2 vs phase3\n",
      "\n",
      "Equal variance t-test stat: 1.2530561156918685\n",
      "Equal variance t-test p-value: 0.22395861136964257\n",
      "Fail to reject the null hypothesis - no significant difference between groups\n",
      "degree of freedom for the model: 20.974366812118692\n",
      "=====================================================================================================\n",
      "Contrast 4: phase4 vs phase5, phase6\n",
      "\n",
      "Equal variance t-test stat: 1.3611903701848063\n",
      "Equal variance t-test p-value: 0.18240739627015137\n",
      "Fail to reject the null hypothesis - no significant difference between groups\n",
      "degree of freedom for the model: 17.37399714160896\n",
      "=====================================================================================================\n",
      "Contrast 5: phase1 vs phase2\n",
      "\n",
      "Equal variance t-test stat: 3.223028896621775\n",
      "Equal variance t-test p-value: 0.008115224930645659\n",
      "Reject the null hypothesis - significant difference between groups\n",
      "degree of freedom for the model: 9.395394587051406\n",
      "=====================================================================================================\n",
      "Contrast 6: phase5 vs phase6\n",
      "\n",
      "Equal variance t-test stat: -3.360600438303056\n",
      "Equal variance t-test p-value: 0.0025969858410575886\n",
      "Reject the null hypothesis - significant difference between groups\n",
      "degree of freedom for the model: 22.2943680137501\n",
      "=====================================================================================================\n"
     ]
    }
   ],
   "source": [
    "# contrast 1: 0 vs rest\n",
    "print(\"Contrast 1: 0 vs rest\\n\")\n",
    "\n",
    "stat_test(int_result['mean_posts'][int_result['phase'].isin([\"phase 0\"])], \n",
    "     int_result['mean_posts'][int_result['phase'].isin([\"phase 1\", \"phase 2\", \"phase 3\", \"phase 4\", \"phase 5\", \"phase 6\"])])\n",
    "\n",
    "print(\"=====================================================================================================\")\n",
    "\n",
    "# contrast 2: phase1, phase2, phase3 vs phase4, phase5, phase6\n",
    "print(\"Contrast 2: phase1, phase2, phase3 vs phase4, phase5, phase6\\n\")\n",
    "\n",
    "stat_test(int_result['mean_posts'][int_result['phase'].isin([\"phase 1\", \"phase 2\", \"phase 3\"])], \n",
    "     int_result['mean_posts'][int_result['phase'].isin([\"phase 4\", \"phase 5\", \"phase 6\"])])\n",
    "\n",
    "print(\"=====================================================================================================\")\n",
    "\n",
    "# contrast 3: phase1, phase2 vs phase3\n",
    "print(\"Contrast 3: phase1, phase2 vs phase3\\n\")\n",
    "\n",
    "stat_test(int_result['mean_posts'][int_result['phase'].isin([\"phase 1\", \"phase 2\"])],\n",
    "        int_result['mean_posts'][int_result['phase'].isin([\"phase 3\"])])\n",
    "\n",
    "print(\"=====================================================================================================\")\n",
    "\n",
    "# contrast 4: phase4 vs phase5, phase6\n",
    "print(\"Contrast 4: phase4 vs phase5, phase6\\n\")\n",
    "\n",
    "stat_test(int_result['mean_posts'][int_result['phase'].isin([\"phase 4\"])],\n",
    "        int_result['mean_posts'][int_result['phase'].isin([\"phase 5\", \"phase 6\"])])\n",
    "\n",
    "print(\"=====================================================================================================\")\n",
    "\n",
    "# contrast 5: phase1 vs phase2\n",
    "print(\"Contrast 5: phase1 vs phase2\\n\")\n",
    "\n",
    "stat_test(int_result['mean_posts'][int_result['phase'].isin([\"phase 1\"])],\n",
    "        int_result['mean_posts'][int_result['phase'].isin([\"phase 2\"])])\n",
    "\n",
    "print(\"=====================================================================================================\")\n",
    "\n",
    "# contrast 6: phase5 vs phase6\n",
    "print(\"Contrast 6: phase5 vs phase6\\n\")\n",
    "\n",
    "stat_test(int_result['mean_posts'][int_result['phase'].isin([\"phase 5\"])],\n",
    "        int_result['mean_posts'][int_result['phase'].isin([\"phase 6\"])])\n",
    "\n",
    "print(\"=====================================================================================================\")"
   ]
  },
  {
   "cell_type": "markdown",
   "id": "4f9a87d6",
   "metadata": {},
   "source": [
    "#### Levene's test"
   ]
  },
  {
   "cell_type": "code",
   "execution_count": 19,
   "id": "fd301ade",
   "metadata": {},
   "outputs": [
    {
     "data": {
      "text/plain": [
       "LeveneResult(statistic=0.9347247372629771, pvalue=0.47700002781212303)"
      ]
     },
     "execution_count": 19,
     "metadata": {},
     "output_type": "execute_result"
    }
   ],
   "source": [
    "levene(int_result['mean_posts'][int_result['phase'].isin([\"phase 0\"])],\n",
    "       int_result['mean_posts'][int_result['phase'].isin([\"phase 1\"])],\n",
    "       int_result['mean_posts'][int_result['phase'].isin([\"phase 2\"])],\n",
    "       int_result['mean_posts'][int_result['phase'].isin([\"phase 3\"])],\n",
    "       int_result['mean_posts'][int_result['phase'].isin([\"phase 4\"])],\n",
    "       int_result['mean_posts'][int_result['phase'].isin([\"phase 5\"])],\n",
    "       int_result['mean_posts'][int_result['phase'].isin([\"phase 6\"])])"
   ]
  },
  {
   "cell_type": "markdown",
   "id": "4b827571",
   "metadata": {},
   "source": [
    "### Topic 2: Russian Domestic Affairs"
   ]
  },
  {
   "cell_type": "code",
   "execution_count": 20,
   "id": "9b666776",
   "metadata": {},
   "outputs": [],
   "source": [
    "rus_df = df[df['category'] == \"Russian domestic politics\"]\n",
    "rus_df['week_year'] = rus_df['post_datetime'].dt.strftime('%Y-%U')\n",
    "\n",
    "rus_result = rus_df.groupby(['phase', 'week_year']).size().reset_index(name='posts_count')\n",
    "\n",
    "rus_result['mean_posts'] = rus_result['posts_count'] // 7\n",
    "\n",
    "rus_result = rus_result[1:]\n",
    "\n",
    "# reset index\n",
    "rus_result = rus_result.reset_index(drop=True)\n",
    "\n",
    "res_grouped_data = [rus_result['mean_posts'][rus_result['phase'] == phase] for phase in rus_result['phase'].unique()]"
   ]
  },
  {
   "cell_type": "code",
   "execution_count": 21,
   "id": "e44f15e0",
   "metadata": {},
   "outputs": [],
   "source": [
    "# res_p_value = f_oneway(*res_grouped_data)"
   ]
  },
  {
   "cell_type": "markdown",
   "id": "d248cbf1",
   "metadata": {},
   "source": [
    "#### ANOVA results"
   ]
  },
  {
   "cell_type": "code",
   "execution_count": 22,
   "id": "080fae08",
   "metadata": {},
   "outputs": [
    {
     "name": "stdout",
     "output_type": "stream",
     "text": [
      "                 sum_sq    df         F    PR(>F)\n",
      "C(phase)  121761.836832   6.0  6.214052  0.000041\n",
      "Residual  195945.954212  60.0       NaN       NaN\n"
     ]
    }
   ],
   "source": [
    "model = ols('mean_posts ~ C(phase)', rus_result).fit()\n",
    "\n",
    "# Perform ANOVA and print the results\n",
    "aov_table = sm.stats.anova_lm(model, typ=2)\n",
    "print(aov_table)"
   ]
  },
  {
   "cell_type": "markdown",
   "id": "95872482",
   "metadata": {},
   "source": [
    "#### t-test results"
   ]
  },
  {
   "cell_type": "code",
   "execution_count": 23,
   "id": "6f746d06",
   "metadata": {},
   "outputs": [
    {
     "name": "stdout",
     "output_type": "stream",
     "text": [
      "Contrast 1: 0 vs rest\n",
      "\n",
      "Equal variance t-test stat: -2.3282462894620792\n",
      "Equal variance t-test p-value: 0.02302126700186002\n",
      "Reject the null hypothesis - significant difference between groups\n",
      "degree of freedom for the model: 47.68593673398658\n",
      "=====================================================================================================\n",
      "Contrast 2: phase1, phase2, phase3 vs phase4, phase5, phase6\n",
      "\n",
      "Equal variance t-test stat: 0.041457390279188155\n",
      "Equal variance t-test p-value: 0.9670761399149445\n",
      "Fail to reject the null hypothesis - no significant difference between groups\n",
      "degree of freedom for the model: 36.87265680648825\n",
      "=====================================================================================================\n",
      "Contrast 3: phase1, phase2 vs phase3\n",
      "\n",
      "Equal variance t-test stat: 1.5399102421283855\n",
      "Equal variance t-test p-value: 0.1385159860429184\n",
      "Fail to reject the null hypothesis - no significant difference between groups\n",
      "degree of freedom for the model: 15.000952321819726\n",
      "=====================================================================================================\n",
      "Contrast 4: phase4 vs phase5, phase6\n",
      "\n",
      "Equal variance t-test stat: 1.695138299783802\n",
      "Equal variance t-test p-value: 0.09919034605956152\n",
      "Fail to reject the null hypothesis - no significant difference between groups\n",
      "degree of freedom for the model: 10.471893252790387\n",
      "=====================================================================================================\n",
      "Contrast 5: phase1 vs phase2\n",
      "\n",
      "Equal variance t-test stat: 3.089219403694697\n",
      "Equal variance t-test p-value: 0.010300405331586401\n",
      "Reject the null hypothesis - significant difference between groups\n",
      "degree of freedom for the model: 5.519958935072468\n",
      "=====================================================================================================\n",
      "Contrast 6: phase5 vs phase6\n",
      "\n",
      "Equal variance t-test stat: 2.5747427411531247\n",
      "Equal variance t-test p-value: 0.016625369501981024\n",
      "Reject the null hypothesis - significant difference between groups\n",
      "degree of freedom for the model: 18.823606886009237\n",
      "=====================================================================================================\n"
     ]
    }
   ],
   "source": [
    "# contrast 1: 0 vs rest\n",
    "print(\"Contrast 1: 0 vs rest\\n\")\n",
    "\n",
    "stat_test(rus_result['mean_posts'][rus_result['phase'].isin([\"phase 0\"])], \n",
    "     rus_result['mean_posts'][rus_result['phase'].isin([\"phase 1\", \"phase 2\", \"phase 3\", \"phase 4\", \"phase 5\", \"phase 6\"])])\n",
    "\n",
    "print(\"=====================================================================================================\")\n",
    "\n",
    "# contrast 2: phase1, phase2, phase3 vs phase4, phase5, phase6\n",
    "print(\"Contrast 2: phase1, phase2, phase3 vs phase4, phase5, phase6\\n\")\n",
    "\n",
    "stat_test(rus_result['mean_posts'][rus_result['phase'].isin([\"phase 1\", \"phase 2\", \"phase 3\"])], \n",
    "     rus_result['mean_posts'][rus_result['phase'].isin([\"phase 4\", \"phase 5\", \"phase 6\"])])\n",
    "\n",
    "print(\"=====================================================================================================\")\n",
    "\n",
    "# contrast 3: phase1, phase2 vs phase3\n",
    "print(\"Contrast 3: phase1, phase2 vs phase3\\n\")\n",
    "\n",
    "stat_test(rus_result['mean_posts'][rus_result['phase'].isin([\"phase 1\", \"phase 2\"])],\n",
    "        rus_result['mean_posts'][rus_result['phase'].isin([\"phase 3\"])])\n",
    "\n",
    "print(\"=====================================================================================================\")\n",
    "\n",
    "# contrast 4: phase4 vs phase5, phase6\n",
    "print(\"Contrast 4: phase4 vs phase5, phase6\\n\")\n",
    "\n",
    "stat_test(rus_result['mean_posts'][rus_result['phase'].isin([\"phase 4\"])],\n",
    "        rus_result['mean_posts'][rus_result['phase'].isin([\"phase 5\", \"phase 6\"])])\n",
    "\n",
    "print(\"=====================================================================================================\")\n",
    "\n",
    "# contrast 5: phase1 vs phase2\n",
    "print(\"Contrast 5: phase1 vs phase2\\n\")\n",
    "\n",
    "stat_test(rus_result['mean_posts'][rus_result['phase'].isin([\"phase 1\"])],\n",
    "        rus_result['mean_posts'][rus_result['phase'].isin([\"phase 2\"])])\n",
    "\n",
    "print(\"=====================================================================================================\")\n",
    "\n",
    "# contrast 6: phase5 vs phase6\n",
    "print(\"Contrast 6: phase5 vs phase6\\n\")\n",
    "\n",
    "stat_test(rus_result['mean_posts'][rus_result['phase'].isin([\"phase 5\"])],\n",
    "        rus_result['mean_posts'][rus_result['phase'].isin([\"phase 6\"])])\n",
    "\n",
    "print(\"=====================================================================================================\")"
   ]
  },
  {
   "cell_type": "markdown",
   "id": "883a9307",
   "metadata": {},
   "source": [
    "#### Levene's test"
   ]
  },
  {
   "cell_type": "code",
   "execution_count": 24,
   "id": "8c7daf4a",
   "metadata": {},
   "outputs": [
    {
     "data": {
      "text/plain": [
       "LeveneResult(statistic=2.1390070899825044, pvalue=0.07493181505664984)"
      ]
     },
     "execution_count": 24,
     "metadata": {},
     "output_type": "execute_result"
    }
   ],
   "source": [
    "levene(rus_result['mean_posts'][rus_result['phase'].isin([\"phase 1\"])],\n",
    "       rus_result['mean_posts'][rus_result['phase'].isin([\"phase 2\"])],\n",
    "       rus_result['mean_posts'][rus_result['phase'].isin([\"phase 3\"])],\n",
    "       rus_result['mean_posts'][rus_result['phase'].isin([\"phase 4\"])],\n",
    "       rus_result['mean_posts'][rus_result['phase'].isin([\"phase 5\"])],\n",
    "       rus_result['mean_posts'][rus_result['phase'].isin([\"phase 6\"])])"
   ]
  },
  {
   "cell_type": "markdown",
   "id": "cfcf64c2",
   "metadata": {},
   "source": [
    "### Topic 3: Combat and Frontline Updates"
   ]
  },
  {
   "cell_type": "code",
   "execution_count": 25,
   "id": "ea3a16fc",
   "metadata": {},
   "outputs": [],
   "source": [
    "war_df = df[df['category'] == \"Combat and Frontline updates\"]\n",
    "war_df['week_year'] = war_df['post_datetime'].dt.strftime('%Y-%U')\n",
    "\n",
    "war_result = war_df.groupby(['phase', 'week_year']).size().reset_index(name='posts_count')\n",
    "\n",
    "war_result['mean_posts'] = war_result['posts_count'] // 7\n",
    "\n",
    "# war_result = war_result[1:]\n",
    "war_result = war_result.reset_index(drop=True)\n",
    "\n",
    "war_grouped_data = [war_result['mean_posts'][war_result['phase'] == phase] for phase in war_result['phase'].unique()]"
   ]
  },
  {
   "cell_type": "code",
   "execution_count": 40,
   "id": "f74169b7",
   "metadata": {},
   "outputs": [],
   "source": [
    "# war_f_statistic, war_p_value = f_oneway(*war_grouped_data)"
   ]
  },
  {
   "cell_type": "markdown",
   "id": "904f807f",
   "metadata": {},
   "source": [
    "#### ANOVA results"
   ]
  },
  {
   "cell_type": "code",
   "execution_count": 41,
   "id": "deb07ba5",
   "metadata": {},
   "outputs": [
    {
     "name": "stdout",
     "output_type": "stream",
     "text": [
      "                 sum_sq    df          F        PR(>F)\n",
      "C(phase)  200804.528317   5.0  13.339641  2.008711e-08\n",
      "Residual  159564.115751  53.0        NaN           NaN\n"
     ]
    }
   ],
   "source": [
    "model = ols('mean_posts ~ C(phase)', war_result).fit()\n",
    "\n",
    "# Perform ANOVA and print the results\n",
    "aov_table = sm.stats.anova_lm(model, typ=2)\n",
    "print(aov_table)"
   ]
  },
  {
   "cell_type": "markdown",
   "id": "8c8d8025",
   "metadata": {},
   "source": [
    "#### t-test for contrast weights"
   ]
  },
  {
   "cell_type": "code",
   "execution_count": 42,
   "id": "01c1ab3f",
   "metadata": {},
   "outputs": [
    {
     "name": "stdout",
     "output_type": "stream",
     "text": [
      "Contrast 1: 0 vs rest\n",
      "\n",
      "Unequal variance t-test stat: nan\n",
      "Unequal variance t-test p-value: nan\n",
      "Fail to reject the null hypothesis - no significant difference between groups\n",
      "degree of freedom for the model: nan\n",
      "=====================================================================================================\n",
      "Contrast 2: phase1, phase2, phase3 vs phase4, phase5, phase6\n",
      "\n",
      "Unequal variance t-test stat: 5.045897923109444\n",
      "Unequal variance t-test p-value: 2.199093118255422e-05\n",
      "Reject the null hypothesis - significant difference between groups\n",
      "degree of freedom for the model: 29.17119001005652\n",
      "=====================================================================================================\n",
      "Contrast 3: phase1, phase2 vs phase3\n",
      "\n",
      "Equal variance t-test stat: 1.9540644880671894\n",
      "Equal variance t-test p-value: 0.06414081330743489\n",
      "Fail to reject the null hypothesis - no significant difference between groups\n",
      "degree of freedom for the model: 20.996119881277323\n",
      "=====================================================================================================\n",
      "Contrast 4: phase4 vs phase5, phase6\n",
      "\n",
      "Unequal variance t-test stat: -5.95288253677212\n",
      "Unequal variance t-test p-value: 1.2407791495587467e-06\n",
      "Reject the null hypothesis - significant difference between groups\n",
      "degree of freedom for the model: 32.02255500034135\n",
      "=====================================================================================================\n",
      "Contrast 5: phase1 vs phase2\n",
      "\n",
      "Equal variance t-test stat: -1.1679727417284238\n",
      "Equal variance t-test p-value: 0.26750971658633926\n",
      "Fail to reject the null hypothesis - no significant difference between groups\n",
      "degree of freedom for the model: 10.975520387256672\n",
      "=====================================================================================================\n",
      "Contrast 6: phase5 vs phase6\n",
      "\n",
      "Equal variance t-test stat: -2.9857312519900696\n",
      "Equal variance t-test p-value: 0.006419569932195187\n",
      "Reject the null hypothesis - significant difference between groups\n",
      "degree of freedom for the model: 20.692514523232177\n",
      "=====================================================================================================\n"
     ]
    }
   ],
   "source": [
    "# contrast 1: 0 vs rest\n",
    "print(\"Contrast 1: 0 vs rest\\n\")\n",
    "\n",
    "stat_test(war_result['mean_posts'][war_result['phase'].isin([\"phase 0\"])], \n",
    "     war_result['mean_posts'][war_result['phase'].isin([\"phase 1\", \"phase 2\", \"phase 3\", \"phase 4\", \"phase 5\", \"phase 6\"])])\n",
    "\n",
    "print(\"=====================================================================================================\")\n",
    "\n",
    "# contrast 2: phase1, phase2, phase3 vs phase4, phase5, phase6\n",
    "print(\"Contrast 2: phase1, phase2, phase3 vs phase4, phase5, phase6\\n\")\n",
    "\n",
    "stat_test(war_result['mean_posts'][war_result['phase'].isin([\"phase 1\", \"phase 2\", \"phase 3\"])], \n",
    "     war_result['mean_posts'][war_result['phase'].isin([\"phase 4\", \"phase 5\", \"phase 6\"])])\n",
    "\n",
    "print(\"=====================================================================================================\")\n",
    "\n",
    "# contrast 3: phase1, phase2 vs phase3\n",
    "print(\"Contrast 3: phase1, phase2 vs phase3\\n\")\n",
    "\n",
    "stat_test(war_result['mean_posts'][war_result['phase'].isin([\"phase 1\", \"phase 2\"])],\n",
    "        war_result['mean_posts'][war_result['phase'].isin([\"phase 3\"])])\n",
    "\n",
    "print(\"=====================================================================================================\")\n",
    "\n",
    "# contrast 4: phase4 vs phase5, phase6\n",
    "print(\"Contrast 4: phase4 vs phase5, phase6\\n\")\n",
    "\n",
    "stat_test(war_result['mean_posts'][war_result['phase'].isin([\"phase 4\"])],\n",
    "        war_result['mean_posts'][war_result['phase'].isin([\"phase 5\", \"phase 6\"])])\n",
    "\n",
    "print(\"=====================================================================================================\")\n",
    "\n",
    "# contrast 5: phase1 vs phase2\n",
    "print(\"Contrast 5: phase1 vs phase2\\n\")\n",
    "\n",
    "stat_test(war_result['mean_posts'][war_result['phase'].isin([\"phase 1\"])],\n",
    "        war_result['mean_posts'][war_result['phase'].isin([\"phase 2\"])])\n",
    "\n",
    "print(\"=====================================================================================================\")\n",
    "\n",
    "# contrast 6: phase5 vs phase6\n",
    "print(\"Contrast 6: phase5 vs phase6\\n\")\n",
    "\n",
    "stat_test(war_result['mean_posts'][war_result['phase'].isin([\"phase 5\"])],\n",
    "        war_result['mean_posts'][war_result['phase'].isin([\"phase 6\"])])\n",
    "\n",
    "print(\"=====================================================================================================\")"
   ]
  },
  {
   "cell_type": "markdown",
   "id": "7960d035",
   "metadata": {},
   "source": [
    "#### Levene's test"
   ]
  },
  {
   "cell_type": "code",
   "execution_count": 47,
   "id": "041fe562",
   "metadata": {},
   "outputs": [
    {
     "data": {
      "text/plain": [
       "LeveneResult(statistic=1.998278610802159, pvalue=0.09392589211309546)"
      ]
     },
     "execution_count": 47,
     "metadata": {},
     "output_type": "execute_result"
    }
   ],
   "source": [
    "levene(war_result['mean_posts'][war_result['phase'].isin([\"phase 1\"])],\n",
    "       war_result['mean_posts'][war_result['phase'].isin([\"phase 2\"])],\n",
    "       war_result['mean_posts'][war_result['phase'].isin([\"phase 3\"])],\n",
    "       war_result['mean_posts'][war_result['phase'].isin([\"phase 4\"])],\n",
    "       war_result['mean_posts'][war_result['phase'].isin([\"phase 5\"])],\n",
    "       war_result['mean_posts'][war_result['phase'].isin([\"phase 6\"])])"
   ]
  },
  {
   "cell_type": "markdown",
   "id": "366ac8aa",
   "metadata": {},
   "source": [
    "### Topic 4: Ukrainian Domestic Affairs"
   ]
  },
  {
   "cell_type": "code",
   "execution_count": 43,
   "id": "8f27752a",
   "metadata": {},
   "outputs": [],
   "source": [
    "ukr_df = df[df['category'] == \"Ukranian domestic affairs\"]\n",
    "ukr_df['week_year'] = ukr_df['post_datetime'].dt.strftime('%Y-%U')\n",
    "\n",
    "ukr_result = ukr_df.groupby(['phase', 'week_year']).size().reset_index(name='posts_count')\n",
    "\n",
    "ukr_result['mean_posts'] = ukr_result['posts_count'] // 7\n",
    "\n",
    "ukr_result = ukr_result[1:]\n",
    "ukr_result = ukr_result.reset_index(drop=True)\n",
    "\n",
    "ukr_grouped_data = [ukr_result['mean_posts'][ukr_result['phase'] == phase] for phase in ukr_result['phase'].unique()]"
   ]
  },
  {
   "cell_type": "code",
   "execution_count": 44,
   "id": "6191c093",
   "metadata": {},
   "outputs": [],
   "source": [
    "ukr_f_statistic, ukr_p_value = f_oneway(*ukr_grouped_data)"
   ]
  },
  {
   "cell_type": "code",
   "execution_count": 45,
   "id": "d71ae308",
   "metadata": {},
   "outputs": [
    {
     "name": "stdout",
     "output_type": "stream",
     "text": [
      "F-statistic: 92.41558576963764\n",
      "P-value: 1.9874211477624988e-28\n"
     ]
    }
   ],
   "source": [
    "# Print the results\n",
    "print(f'F-statistic: {ukr_f_statistic}')\n",
    "print(f'P-value: {ukr_p_value}')"
   ]
  },
  {
   "cell_type": "code",
   "execution_count": 46,
   "id": "d29d9790",
   "metadata": {},
   "outputs": [
    {
     "name": "stdout",
     "output_type": "stream",
     "text": [
      "                 sum_sq    df          F        PR(>F)\n",
      "C(phase)  315145.755157   6.0  92.415586  1.987421e-28\n",
      "Residual   34100.931410  60.0        NaN           NaN\n"
     ]
    }
   ],
   "source": [
    "model = ols('mean_posts ~ C(phase)', ukr_result).fit()\n",
    "\n",
    "# Perform ANOVA and print the results\n",
    "aov_table = sm.stats.anova_lm(model, typ=2)\n",
    "print(aov_table)"
   ]
  },
  {
   "cell_type": "markdown",
   "id": "059069df",
   "metadata": {},
   "source": [
    "### Topic 5: Economy "
   ]
  },
  {
   "cell_type": "code",
   "execution_count": 48,
   "id": "d71d358e",
   "metadata": {},
   "outputs": [],
   "source": [
    "eco_df = df[df['category'] == \"Economy\"]\n",
    "eco_df['week_year'] = eco_df['post_datetime'].dt.strftime('%Y-%U')\n",
    "\n",
    "eco_result = eco_df.groupby(['phase', 'week_year']).size().reset_index(name='posts_count')\n",
    "\n",
    "eco_result['mean_posts'] = eco_result['posts_count'] // 7\n",
    "\n",
    "eco_result = eco_result[1:]\n",
    "eco_result = eco_result.reset_index(drop=True)\n",
    "\n",
    "eco_grouped_data = [eco_result['mean_posts'][eco_result['phase'] == phase] for phase in eco_result['phase'].unique()]"
   ]
  },
  {
   "cell_type": "code",
   "execution_count": 51,
   "id": "7ba5615b",
   "metadata": {},
   "outputs": [],
   "source": [
    "# eco_f_statistic, eco_p_value = f_oneway(*eco_grouped_data)"
   ]
  },
  {
   "cell_type": "markdown",
   "id": "dbc67bbb",
   "metadata": {},
   "source": [
    "#### ANOVA results"
   ]
  },
  {
   "cell_type": "code",
   "execution_count": 52,
   "id": "4484e85d",
   "metadata": {},
   "outputs": [
    {
     "name": "stdout",
     "output_type": "stream",
     "text": [
      "                sum_sq    df          F        PR(>F)\n",
      "C(phase)  98404.557240   6.0  12.664454  3.562087e-09\n",
      "Residual  77701.383059  60.0        NaN           NaN\n"
     ]
    }
   ],
   "source": [
    "model = ols('mean_posts ~ C(phase)', eco_result).fit()\n",
    "\n",
    "# Perform ANOVA and print the results\n",
    "aov_table = sm.stats.anova_lm(model, typ=2)\n",
    "print(aov_table)"
   ]
  },
  {
   "cell_type": "markdown",
   "id": "9e0bf673",
   "metadata": {},
   "source": [
    "#### t-test results"
   ]
  },
  {
   "cell_type": "code",
   "execution_count": 55,
   "id": "e301f6d1",
   "metadata": {},
   "outputs": [
    {
     "name": "stdout",
     "output_type": "stream",
     "text": [
      "Contrast 1: 0 vs rest\n",
      "\n",
      "Equal variance t-test stat: -2.004603652557484\n",
      "Equal variance t-test p-value: 0.04917445095579074\n",
      "Reject the null hypothesis - significant difference between groups\n",
      "degree of freedom for the model: 58.68006451857118\n",
      "=====================================================================================================\n",
      "Contrast 2: phase1, phase2, phase3 vs phase4, phase5, phase6\n",
      "\n",
      "Unequal variance t-test stat: 3.6587875316249385\n",
      "Unequal variance t-test p-value: 0.0012548109083655432\n",
      "Reject the null hypothesis - significant difference between groups\n",
      "degree of freedom for the model: 23.79119621019173\n",
      "=====================================================================================================\n",
      "Contrast 3: phase1, phase2 vs phase3\n",
      "\n",
      "Equal variance t-test stat: 0.30496849013649235\n",
      "Equal variance t-test p-value: 0.7633921763172573\n",
      "Fail to reject the null hypothesis - no significant difference between groups\n",
      "degree of freedom for the model: 16.92982116659763\n",
      "=====================================================================================================\n",
      "Contrast 4: phase4 vs phase5, phase6\n",
      "\n",
      "Equal variance t-test stat: 1.740141707919086\n",
      "Equal variance t-test p-value: 0.09087979836641077\n",
      "Fail to reject the null hypothesis - no significant difference between groups\n",
      "degree of freedom for the model: 23.95118346066006\n",
      "=====================================================================================================\n",
      "Contrast 5: phase1 vs phase2\n",
      "\n",
      "Equal variance t-test stat: 2.8773590375241827\n",
      "Equal variance t-test p-value: 0.015042184458829114\n",
      "Reject the null hypothesis - significant difference between groups\n",
      "degree of freedom for the model: 5.3337052199364\n",
      "=====================================================================================================\n",
      "Contrast 6: phase5 vs phase6\n",
      "\n",
      "Equal variance t-test stat: 2.57035591372357\n",
      "Equal variance t-test p-value: 0.016790374803953817\n",
      "Reject the null hypothesis - significant difference between groups\n",
      "degree of freedom for the model: 15.705063379130552\n",
      "=====================================================================================================\n"
     ]
    }
   ],
   "source": [
    "# contrast 1: 0 vs rest\n",
    "print(\"Contrast 1: 0 vs rest\\n\")\n",
    "\n",
    "stat_test(eco_result['mean_posts'][eco_result['phase'].isin([\"phase 0\"])], \n",
    "     eco_result['mean_posts'][eco_result['phase'].isin([\"phase 1\", \"phase 2\", \"phase 3\", \"phase 4\", \"phase 5\", \"phase 6\"])])\n",
    "\n",
    "print(\"=====================================================================================================\")\n",
    "\n",
    "# contrast 2: phase1, phase2, phase3 vs phase4, phase5, phase6\n",
    "print(\"Contrast 2: phase1, phase2, phase3 vs phase4, phase5, phase6\\n\")\n",
    "\n",
    "stat_test(eco_result['mean_posts'][eco_result['phase'].isin([\"phase 1\", \"phase 2\", \"phase 3\"])], \n",
    "     eco_result['mean_posts'][eco_result['phase'].isin([\"phase 4\", \"phase 5\", \"phase 6\"])])\n",
    "\n",
    "print(\"=====================================================================================================\")\n",
    "\n",
    "# contrast 3: phase1, phase2 vs phase3\n",
    "print(\"Contrast 3: phase1, phase2 vs phase3\\n\")\n",
    "\n",
    "stat_test(eco_result['mean_posts'][eco_result['phase'].isin([\"phase 1\", \"phase 2\"])],\n",
    "        eco_result['mean_posts'][eco_result['phase'].isin([\"phase 3\"])])\n",
    "\n",
    "print(\"=====================================================================================================\")\n",
    "\n",
    "# contrast 4: phase4 vs phase5, phase6\n",
    "print(\"Contrast 4: phase4 vs phase5, phase6\\n\")\n",
    "\n",
    "stat_test(eco_result['mean_posts'][eco_result['phase'].isin([\"phase 4\"])],\n",
    "        eco_result['mean_posts'][eco_result['phase'].isin([\"phase 5\", \"phase 6\"])])\n",
    "\n",
    "print(\"=====================================================================================================\")\n",
    "\n",
    "# contrast 5: phase1 vs phase2\n",
    "print(\"Contrast 5: phase1 vs phase2\\n\")\n",
    "\n",
    "stat_test(eco_result['mean_posts'][eco_result['phase'].isin([\"phase 1\"])],\n",
    "        eco_result['mean_posts'][eco_result['phase'].isin([\"phase 2\"])])\n",
    "\n",
    "print(\"=====================================================================================================\")\n",
    "\n",
    "# contrast 6: phase5 vs phase6\n",
    "print(\"Contrast 6: phase5 vs phase6\\n\")\n",
    "\n",
    "stat_test(eco_result['mean_posts'][eco_result['phase'].isin([\"phase 5\"])],\n",
    "        eco_result['mean_posts'][eco_result['phase'].isin([\"phase 6\"])])\n",
    "\n",
    "print(\"=====================================================================================================\")"
   ]
  },
  {
   "cell_type": "code",
   "execution_count": 56,
   "id": "85979f37",
   "metadata": {},
   "outputs": [
    {
     "data": {
      "text/plain": [
       "LeveneResult(statistic=4.773707589907995, pvalue=0.00048747672361736886)"
      ]
     },
     "execution_count": 56,
     "metadata": {},
     "output_type": "execute_result"
    }
   ],
   "source": [
    "levene(eco_result['mean_posts'][eco_result['phase'].isin([\"phase 0\"])],\n",
    "       eco_result['mean_posts'][eco_result['phase'].isin([\"phase 1\"])],\n",
    "       eco_result['mean_posts'][eco_result['phase'].isin([\"phase 2\"])],\n",
    "       eco_result['mean_posts'][eco_result['phase'].isin([\"phase 3\"])],\n",
    "       eco_result['mean_posts'][eco_result['phase'].isin([\"phase 4\"])],\n",
    "       eco_result['mean_posts'][eco_result['phase'].isin([\"phase 5\"])],\n",
    "       eco_result['mean_posts'][eco_result['phase'].isin([\"phase 6\"])])"
   ]
  },
  {
   "cell_type": "markdown",
   "id": "ea4e226a",
   "metadata": {},
   "source": [
    "##### Tukey's test"
   ]
  },
  {
   "cell_type": "code",
   "execution_count": 57,
   "id": "bf71c95f",
   "metadata": {},
   "outputs": [],
   "source": [
    "# # post-hoc analysis on eco_grouped_data\n",
    "# from statsmodels.stats.multicomp import pairwise_tukeyhsd\n",
    "# from statsmodels.stats.multicomp import MultiComparison\n",
    "# from statsmodels.stats.multicomp import tukeyhsd\n",
    "\n",
    "# # Run Tukey's test\n",
    "# tukey = pairwise_tukeyhsd(endog=eco_result['mean_posts'],  # Data\n",
    "#                           groups=eco_result['phase'],  # Groups\n",
    "#                           alpha=0.05)  # Significance level\n",
    "\n",
    "# # Create and show the plot\n",
    "# # Plot group confidence intervals\n",
    "# tukey.plot_simultaneous()    \n",
    "# # Test summary\n",
    "# tukey.summary()              "
   ]
  }
 ],
 "metadata": {
  "kernelspec": {
   "display_name": "Python 3.9.12 ('base')",
   "language": "python",
   "name": "python3"
  },
  "language_info": {
   "codemirror_mode": {
    "name": "ipython",
    "version": 3
   },
   "file_extension": ".py",
   "mimetype": "text/x-python",
   "name": "python",
   "nbconvert_exporter": "python",
   "pygments_lexer": "ipython3",
   "version": "3.9.6"
  },
  "vscode": {
   "interpreter": {
    "hash": "40d3a090f54c6569ab1632332b64b2c03c39dcf918b08424e98f38b5ae0af88f"
   }
  }
 },
 "nbformat": 4,
 "nbformat_minor": 5
}
