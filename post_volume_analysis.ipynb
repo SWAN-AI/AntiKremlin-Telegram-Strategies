{
 "cells": [
  {
   "cell_type": "markdown",
   "id": "2c6648c2",
   "metadata": {},
   "source": [
    "### ANOVA Analysis on the avg. post volumes and net user reactions across the phases for top 5 categories"
   ]
  },
  {
   "cell_type": "code",
   "execution_count": 1,
   "id": "aee34831",
   "metadata": {},
   "outputs": [],
   "source": [
    "import pandas as pd\n",
    "from datetime import datetime\n",
    "import warnings\n",
    "# from googletrans import Translator\n",
    "# translator = Translator()\n",
    "warnings.filterwarnings('ignore')\n",
    "import numpy as np\n",
    "import pandas as pd\n",
    "# import researchpay as rp\n",
    "import statsmodels.api as sm\n",
    "from statsmodels.formula.api import ols\n",
    "from scipy.stats import f_oneway\n",
    "from scipy.stats import ttest_ind\n",
    "from scipy.stats import levene\n",
    "from statsmodels.stats.multicomp import pairwise_tukeyhsd"
   ]
  },
  {
   "cell_type": "code",
   "execution_count": 2,
   "id": "635690f9",
   "metadata": {},
   "outputs": [],
   "source": [
    "df = pd.read_csv(\"antiKremlin_dataset.csv\")"
   ]
  },
  {
   "cell_type": "code",
   "execution_count": 4,
   "id": "1e2d04be",
   "metadata": {},
   "outputs": [],
   "source": [
    "df[\"post_datetime\"] = pd.to_datetime(df['post_datetime'])\n",
    "df['post_date'] = pd.to_datetime(df['post_datetime'].dt.date)"
   ]
  },
  {
   "cell_type": "code",
   "execution_count": 5,
   "id": "2338e422",
   "metadata": {},
   "outputs": [],
   "source": [
    "def stat_test(*data):\n",
    "    levene_f_statistic, levene_p_value = levene(*data)\n",
    "    # print(f'Levene F-statistic: {levene_f_statistic}')\n",
    "    print(f'Levene p-value: {levene_p_value}')\n",
    "\n",
    "    if levene_p_value > 0.05:\n",
    "        t, p = ttest_ind(*data)\n",
    "        print(f'Equal variance t-test stat: {round(t, 3)} ----', t)\n",
    "        print(f'Equal variance t-test p-value: {round(p, 3)}')\n",
    "\n",
    "        # Calculate degrees of freedom for equal variances\n",
    "        n1 = len(data[0])\n",
    "        n2 = len(data[1])\n",
    "        dof = n1 + n2 - 2\n",
    "        print(f\"n1: {n1}, n2: {n2}, Degrees of freedom (equal variance): {dof}\")\n",
    "\n",
    "    else:\n",
    "        t, p = ttest_ind(*data, equal_var=False)\n",
    "        print(f'Unequal variance t-test stat: {round(t, 3)} ----', t)\n",
    "        print(f'Unequal variance t-test p-value: {p}')\n",
    "\n",
    "        group1 = np.array(data[0])\n",
    "        group2 = np.array(data[1])\n",
    "\n",
    "        n1 = len(group1)\n",
    "        n2 = len(group2)\n",
    "\n",
    "        var1 = np.var(group1, ddof=1)\n",
    "        var2 = np.var(group2, ddof=1)\n",
    "\n",
    "        # Welch-Satterthwaite equation for degrees of freedom\n",
    "        numerator = (var1/n1 + var2/n2)**2\n",
    "        denominator = ((var1/n1)**2 / (n1 - 1)) + ((var2/n2)**2 / (n2 - 1))\n",
    "        dof = numerator / denominator\n",
    "        \n",
    "        print(f\"n1: {n1}, n2: {n2}, degree of freedom (unequal variance): {dof}\")\n",
    "\n",
    "    if p < 0.05:\n",
    "        print('Reject the null hypothesis - SIGNIFICANT difference between groups')\n",
    "    else:\n",
    "        print('Fail to reject the null hypothesis - NO-SIGNIFICANT difference between groups')"
   ]
  },
  {
   "cell_type": "markdown",
   "id": "d606d08e",
   "metadata": {},
   "source": [
    "### Topic 1: International Politics\t"
   ]
  },
  {
   "cell_type": "code",
   "execution_count": 6,
   "id": "fe1e9a62",
   "metadata": {},
   "outputs": [],
   "source": [
    "# International Politics categories\n",
    "int_df = df[df['category'] == \"International Politics\"]\n",
    "int_df['week_year'] = int_df['post_datetime'].dt.strftime('%Y-%W')\n",
    "int_df['weekday_number'] = int_df['post_datetime'].dt.weekday\n",
    "\n",
    "int_result = int_df.groupby(['phase', 'week_year']).agg(post_count=('post_id', 'count'),\n",
    "                                                    days_captured=('weekday_number', \n",
    "                                                                   lambda x: x.max() - x.min() + 1)).reset_index()\n",
    "\n",
    "int_result['mean_posts'] = round(int_result['post_count'] / int_result['days_captured']).astype(int)\n",
    "int_result = int_result[1:]\n",
    "int_result = int_result[~((int_result['phase'] == \"phase 6\") & (int_result['week_year'] == '2023-00'))]\n",
    "\n",
    "int_result = int_result.reset_index(drop=True)\n",
    "\n",
    "int_grouped_data = [int_result['mean_posts'][int_result['phase'] == phase] \n",
    "                    for phase in int_result['phase'].unique()]"
   ]
  },
  {
   "cell_type": "code",
   "execution_count": 7,
   "id": "31cb4813",
   "metadata": {},
   "outputs": [],
   "source": [
    "# int_f_statistic, int_p_value = f_oneway(*int_grouped_data)"
   ]
  },
  {
   "cell_type": "markdown",
   "id": "484dd1a8",
   "metadata": {},
   "source": [
    "#### ANOVA results"
   ]
  },
  {
   "cell_type": "code",
   "execution_count": 8,
   "id": "e4e9d8b7",
   "metadata": {},
   "outputs": [
    {
     "name": "stdout",
     "output_type": "stream",
     "text": [
      "                 sum_sq    df        F    PR(>F)\n",
      "C(phase)   54099.093362   6.0  1.74326  0.126874\n",
      "Residual  305160.679365  59.0      NaN       NaN\n"
     ]
    }
   ],
   "source": [
    "model = ols('mean_posts ~ C(phase)', int_result).fit()\n",
    "\n",
    "# Perform ANOVA and print the results\n",
    "aov_table = sm.stats.anova_lm(model, typ=2)\n",
    "print(aov_table)"
   ]
  },
  {
   "cell_type": "markdown",
   "id": "7dbf4c8b",
   "metadata": {},
   "source": [
    "#### T-test results"
   ]
  },
  {
   "cell_type": "code",
   "execution_count": 10,
   "id": "8323517d",
   "metadata": {},
   "outputs": [
    {
     "name": "stdout",
     "output_type": "stream",
     "text": [
      "Contrast 1: 0 vs rest\n",
      "\n",
      "Levene p-value: 0.128332966793341\n",
      "Equal variance t-test stat: 0.247 ---- 0.24723333946026232\n",
      "Equal variance t-test p-value: 0.806\n",
      "n1: 8, n2: 58, Degrees of freedom (equal variance): 64\n",
      "Fail to reject the null hypothesis - NO-SIGNIFICANT difference between groups\n",
      "=====================================================================================================\n",
      "Contrast 2: phase1, phase2, phase3 vs phase4, phase5, phase6\n",
      "\n",
      "Levene p-value: 0.43802143071223487\n",
      "Equal variance t-test stat: -0.448 ---- -0.4480159511772867\n",
      "Equal variance t-test p-value: 0.656\n",
      "n1: 22, n2: 36, Degrees of freedom (equal variance): 56\n",
      "Fail to reject the null hypothesis - NO-SIGNIFICANT difference between groups\n",
      "=====================================================================================================\n",
      "Contrast 3: phase1, phase2 vs phase3\n",
      "\n",
      "Levene p-value: 0.14302820157757826\n",
      "Equal variance t-test stat: 1.516 ---- 1.5159847775748998\n",
      "Equal variance t-test p-value: 0.145\n",
      "n1: 13, n2: 9, Degrees of freedom (equal variance): 20\n",
      "Fail to reject the null hypothesis - NO-SIGNIFICANT difference between groups\n",
      "=====================================================================================================\n",
      "Contrast 4: phase4 vs phase5, phase6\n",
      "\n",
      "Levene p-value: 0.6466554498004444\n",
      "Equal variance t-test stat: 1.399 ---- 1.3988433453139286\n",
      "Equal variance t-test p-value: 0.171\n",
      "n1: 10, n2: 26, Degrees of freedom (equal variance): 34\n",
      "Fail to reject the null hypothesis - NO-SIGNIFICANT difference between groups\n",
      "=====================================================================================================\n",
      "Contrast 5: phase1 vs phase2\n",
      "\n",
      "Levene p-value: 0.2539883358258177\n",
      "Equal variance t-test stat: 3.441 ---- 3.4405385257635293\n",
      "Equal variance t-test p-value: 0.006\n",
      "n1: 6, n2: 7, Degrees of freedom (equal variance): 11\n",
      "Reject the null hypothesis - SIGNIFICANT difference between groups\n",
      "=====================================================================================================\n",
      "Contrast 6: phase5 vs phase6\n",
      "\n",
      "Levene p-value: 0.16813274254965666\n",
      "Equal variance t-test stat: -3.398 ---- -3.3980495535720627\n",
      "Equal variance t-test p-value: 0.002\n",
      "n1: 13, n2: 13, Degrees of freedom (equal variance): 24\n",
      "Reject the null hypothesis - SIGNIFICANT difference between groups\n",
      "=====================================================================================================\n"
     ]
    }
   ],
   "source": [
    "# contrast 1: 0 vs rest\n",
    "print(\"Contrast 1: 0 vs rest\\n\")\n",
    "\n",
    "stat_test(int_result['mean_posts'][int_result['phase'].isin([\"phase 0\"])], \n",
    "     int_result['mean_posts'][int_result['phase'].isin([\"phase 1\", \"phase 2\", \"phase 3\", \"phase 4\", \"phase 5\", \"phase 6\"])])\n",
    "\n",
    "print(\"=====================================================================================================\")\n",
    "\n",
    "# contrast 2: phase1, phase2, phase3 vs phase4, phase5, phase6\n",
    "print(\"Contrast 2: phase1, phase2, phase3 vs phase4, phase5, phase6\\n\")\n",
    "\n",
    "stat_test(int_result['mean_posts'][int_result['phase'].isin([\"phase 1\", \"phase 2\", \"phase 3\"])], \n",
    "     int_result['mean_posts'][int_result['phase'].isin([\"phase 4\", \"phase 5\", \"phase 6\"])])\n",
    "\n",
    "print(\"=====================================================================================================\")\n",
    "\n",
    "# contrast 3: phase1, phase2 vs phase3\n",
    "print(\"Contrast 3: phase1, phase2 vs phase3\\n\")\n",
    "\n",
    "stat_test(int_result['mean_posts'][int_result['phase'].isin([\"phase 1\", \"phase 2\"])],\n",
    "        int_result['mean_posts'][int_result['phase'].isin([\"phase 3\"])])\n",
    "\n",
    "print(\"=====================================================================================================\")\n",
    "\n",
    "# contrast 4: phase4 vs phase5, phase6\n",
    "print(\"Contrast 4: phase4 vs phase5, phase6\\n\")\n",
    "\n",
    "stat_test(int_result['mean_posts'][int_result['phase'].isin([\"phase 4\"])],\n",
    "        int_result['mean_posts'][int_result['phase'].isin([\"phase 5\", \"phase 6\"])])\n",
    "\n",
    "print(\"=====================================================================================================\")\n",
    "\n",
    "# contrast 5: phase1 vs phase2\n",
    "print(\"Contrast 5: phase1 vs phase2\\n\")\n",
    "\n",
    "stat_test(int_result['mean_posts'][int_result['phase'].isin([\"phase 1\"])],\n",
    "        int_result['mean_posts'][int_result['phase'].isin([\"phase 2\"])])\n",
    "\n",
    "print(\"=====================================================================================================\")\n",
    "\n",
    "# contrast 6: phase5 vs phase6\n",
    "print(\"Contrast 6: phase5 vs phase6\\n\")\n",
    "\n",
    "stat_test(int_result['mean_posts'][int_result['phase'].isin([\"phase 5\"])],\n",
    "        int_result['mean_posts'][int_result['phase'].isin([\"phase 6\"])])\n",
    "\n",
    "print(\"=====================================================================================================\")"
   ]
  },
  {
   "cell_type": "markdown",
   "id": "4b827571",
   "metadata": {},
   "source": [
    "### Topic 2: Russian Domestic Affairs"
   ]
  },
  {
   "cell_type": "code",
   "execution_count": 11,
   "id": "9b666776",
   "metadata": {},
   "outputs": [],
   "source": [
    "rus_df = df[df['category'] == \"Russian domestic politics\"]\n",
    "rus_df['week_year'] = rus_df['post_datetime'].dt.strftime('%Y-%W')\n",
    "rus_df['weekday_number'] = rus_df['post_datetime'].dt.weekday\n",
    "\n",
    "rus_result = rus_df.groupby(['phase', 'week_year']).agg(post_count=('post_id', 'count'),\n",
    "                                                    days_captured=('weekday_number', \n",
    "                                                                   lambda x: x.max() - x.min() + 1)).reset_index()\n",
    "\n",
    "rus_result['mean_posts'] = round(rus_result['post_count'] / rus_result['days_captured']).astype(int)\n",
    "rus_result = rus_result[1:]\n",
    "rus_result = rus_result[~((rus_result['phase'] == \"phase 6\") & (rus_result['week_year'] == '2023-00'))]\n",
    "\n",
    "rus_result = rus_result.reset_index(drop=True)\n",
    "\n",
    "res_grouped_data = [rus_result['mean_posts'][rus_result['phase'] == phase] \n",
    "                    for phase in rus_result['phase'].unique()]"
   ]
  },
  {
   "cell_type": "code",
   "execution_count": 12,
   "id": "e44f15e0",
   "metadata": {},
   "outputs": [],
   "source": [
    "# res_p_value = f_oneway(*res_grouped_data)"
   ]
  },
  {
   "cell_type": "markdown",
   "id": "d248cbf1",
   "metadata": {},
   "source": [
    "#### ANOVA results"
   ]
  },
  {
   "cell_type": "code",
   "execution_count": 13,
   "id": "080fae08",
   "metadata": {},
   "outputs": [
    {
     "name": "stdout",
     "output_type": "stream",
     "text": [
      "                 sum_sq    df         F    PR(>F)\n",
      "C(phase)  185051.756066   6.0  5.954099  0.000065\n",
      "Residual  305617.274237  59.0       NaN       NaN\n"
     ]
    }
   ],
   "source": [
    "model = ols('mean_posts ~ C(phase)', rus_result).fit()\n",
    "\n",
    "# Perform ANOVA and print the results\n",
    "aov_table = sm.stats.anova_lm(model, typ=2)\n",
    "print(aov_table)"
   ]
  },
  {
   "cell_type": "markdown",
   "id": "95872482",
   "metadata": {},
   "source": [
    "#### t-test results"
   ]
  },
  {
   "cell_type": "code",
   "execution_count": 14,
   "id": "6f746d06",
   "metadata": {},
   "outputs": [
    {
     "name": "stdout",
     "output_type": "stream",
     "text": [
      "Contrast 1: 0 vs rest\n",
      "\n",
      "Levene p-value: 0.3202943542231444\n",
      "Equal variance t-test stat: -2.012 ---- -2.012128433034128\n",
      "Equal variance t-test p-value: 0.048\n",
      "n1: 8, n2: 58, Degrees of freedom (equal variance): 64\n",
      "Reject the null hypothesis - SIGNIFICANT difference between groups\n",
      "=====================================================================================================\n",
      "Contrast 2: phase1, phase2, phase3 vs phase4, phase5, phase6\n",
      "\n",
      "Levene p-value: 0.2781811180031395\n",
      "Equal variance t-test stat: 1.104 ---- 1.1043453536549581\n",
      "Equal variance t-test p-value: 0.274\n",
      "n1: 22, n2: 36, Degrees of freedom (equal variance): 56\n",
      "Fail to reject the null hypothesis - NO-SIGNIFICANT difference between groups\n",
      "=====================================================================================================\n",
      "Contrast 3: phase1, phase2 vs phase3\n",
      "\n",
      "Levene p-value: 0.13359836139533843\n",
      "Equal variance t-test stat: 1.486 ---- 1.485803233403784\n",
      "Equal variance t-test p-value: 0.153\n",
      "n1: 13, n2: 9, Degrees of freedom (equal variance): 20\n",
      "Fail to reject the null hypothesis - NO-SIGNIFICANT difference between groups\n",
      "=====================================================================================================\n",
      "Contrast 4: phase4 vs phase5, phase6\n",
      "\n",
      "Levene p-value: 0.10386415911966984\n",
      "Equal variance t-test stat: 1.748 ---- 1.7484668549535691\n",
      "Equal variance t-test p-value: 0.089\n",
      "n1: 10, n2: 26, Degrees of freedom (equal variance): 34\n",
      "Fail to reject the null hypothesis - NO-SIGNIFICANT difference between groups\n",
      "=====================================================================================================\n",
      "Contrast 5: phase1 vs phase2\n",
      "\n",
      "Levene p-value: 0.12850177910843277\n",
      "Equal variance t-test stat: 2.288 ---- 2.2878026569544563\n",
      "Equal variance t-test p-value: 0.043\n",
      "n1: 6, n2: 7, Degrees of freedom (equal variance): 11\n",
      "Reject the null hypothesis - SIGNIFICANT difference between groups\n",
      "=====================================================================================================\n",
      "Contrast 6: phase5 vs phase6\n",
      "\n",
      "Levene p-value: 0.43499046055705004\n",
      "Equal variance t-test stat: 3.837 ---- 3.837146855438205\n",
      "Equal variance t-test p-value: 0.001\n",
      "n1: 13, n2: 13, Degrees of freedom (equal variance): 24\n",
      "Reject the null hypothesis - SIGNIFICANT difference between groups\n",
      "=====================================================================================================\n"
     ]
    }
   ],
   "source": [
    "# contrast 1: 0 vs rest\n",
    "print(\"Contrast 1: 0 vs rest\\n\")\n",
    "\n",
    "stat_test(rus_result['mean_posts'][rus_result['phase'].isin([\"phase 0\"])], \n",
    "     rus_result['mean_posts'][rus_result['phase'].isin([\"phase 1\", \"phase 2\", \"phase 3\", \"phase 4\", \"phase 5\", \"phase 6\"])])\n",
    "\n",
    "print(\"=====================================================================================================\")\n",
    "\n",
    "# contrast 2: phase1, phase2, phase3 vs phase4, phase5, phase6\n",
    "print(\"Contrast 2: phase1, phase2, phase3 vs phase4, phase5, phase6\\n\")\n",
    "\n",
    "stat_test(rus_result['mean_posts'][rus_result['phase'].isin([\"phase 1\", \"phase 2\", \"phase 3\"])], \n",
    "     rus_result['mean_posts'][rus_result['phase'].isin([\"phase 4\", \"phase 5\", \"phase 6\"])])\n",
    "\n",
    "print(\"=====================================================================================================\")\n",
    "\n",
    "# contrast 3: phase1, phase2 vs phase3\n",
    "print(\"Contrast 3: phase1, phase2 vs phase3\\n\")\n",
    "\n",
    "stat_test(rus_result['mean_posts'][rus_result['phase'].isin([\"phase 1\", \"phase 2\"])],\n",
    "        rus_result['mean_posts'][rus_result['phase'].isin([\"phase 3\"])])\n",
    "\n",
    "print(\"=====================================================================================================\")\n",
    "\n",
    "# contrast 4: phase4 vs phase5, phase6\n",
    "print(\"Contrast 4: phase4 vs phase5, phase6\\n\")\n",
    "\n",
    "stat_test(rus_result['mean_posts'][rus_result['phase'].isin([\"phase 4\"])],\n",
    "        rus_result['mean_posts'][rus_result['phase'].isin([\"phase 5\", \"phase 6\"])])\n",
    "\n",
    "print(\"=====================================================================================================\")\n",
    "\n",
    "# contrast 5: phase1 vs phase2\n",
    "print(\"Contrast 5: phase1 vs phase2\\n\")\n",
    "\n",
    "stat_test(rus_result['mean_posts'][rus_result['phase'].isin([\"phase 1\"])],\n",
    "        rus_result['mean_posts'][rus_result['phase'].isin([\"phase 2\"])])\n",
    "\n",
    "print(\"=====================================================================================================\")\n",
    "\n",
    "# contrast 6: phase5 vs phase6\n",
    "print(\"Contrast 6: phase5 vs phase6\\n\")\n",
    "\n",
    "stat_test(rus_result['mean_posts'][rus_result['phase'].isin([\"phase 5\"])],\n",
    "        rus_result['mean_posts'][rus_result['phase'].isin([\"phase 6\"])])\n",
    "\n",
    "print(\"=====================================================================================================\")"
   ]
  },
  {
   "cell_type": "markdown",
   "id": "cfcf64c2",
   "metadata": {},
   "source": [
    "### Topic 3: Combat and Frontline Updates"
   ]
  },
  {
   "cell_type": "code",
   "execution_count": 15,
   "id": "ea3a16fc",
   "metadata": {},
   "outputs": [],
   "source": [
    "war_df = df[df['category'] == \"Combat and Frontline updates\"]\n",
    "war_df['week_year'] = war_df['post_datetime'].dt.strftime('%Y-%W')\n",
    "war_df['weekday_number'] = war_df['post_datetime'].dt.weekday\n",
    "\n",
    "war_result = war_df.groupby(['phase', 'week_year']).agg(post_count=('post_id', 'count'),\n",
    "                                                    days_captured=('weekday_number', \n",
    "                                                                   lambda x: x.max() - x.min() + 1)).reset_index()\n",
    "\n",
    "war_result['mean_posts'] = round(war_result['post_count'] / war_result['days_captured']).astype(int)\n",
    "war_result = war_result[1:]\n",
    "war_result = war_result[~((war_result['phase'] == \"phase 6\") & (war_result['week_year'] == '2023-00'))]\n",
    "\n",
    "war_result = war_result.reset_index(drop=True)\n",
    "\n",
    "war_grouped_data = [war_result['mean_posts'][war_result['phase'] == phase] \n",
    "                    for phase in war_result['phase'].unique()]"
   ]
  },
  {
   "cell_type": "code",
   "execution_count": 16,
   "id": "f74169b7",
   "metadata": {},
   "outputs": [],
   "source": [
    "# war_f_statistic, war_p_value = f_oneway(*war_grouped_data)"
   ]
  },
  {
   "cell_type": "markdown",
   "id": "904f807f",
   "metadata": {},
   "source": [
    "#### ANOVA results"
   ]
  },
  {
   "cell_type": "code",
   "execution_count": 17,
   "id": "deb07ba5",
   "metadata": {},
   "outputs": [
    {
     "name": "stdout",
     "output_type": "stream",
     "text": [
      "                 sum_sq    df          F        PR(>F)\n",
      "C(phase)  308127.706600   5.0  66.007934  4.526769e-21\n",
      "Residual   47614.012698  51.0        NaN           NaN\n"
     ]
    }
   ],
   "source": [
    "model = ols('mean_posts ~ C(phase)', war_result).fit()\n",
    "\n",
    "# Perform ANOVA and print the results\n",
    "aov_table = sm.stats.anova_lm(model, typ=2)\n",
    "print(aov_table)"
   ]
  },
  {
   "cell_type": "markdown",
   "id": "8c8d8025",
   "metadata": {},
   "source": [
    "#### t-test for contrast weights"
   ]
  },
  {
   "cell_type": "code",
   "execution_count": 18,
   "id": "01c1ab3f",
   "metadata": {},
   "outputs": [
    {
     "name": "stdout",
     "output_type": "stream",
     "text": [
      "Contrast 1: 0 vs rest\n",
      "\n",
      "Levene p-value: nan\n",
      "Unequal variance t-test stat: nan ---- nan\n",
      "Unequal variance t-test p-value: nan\n",
      "n1: 0, n2: 57, degree of freedom (unequal variance): nan\n",
      "Fail to reject the null hypothesis - NO-SIGNIFICANT difference between groups\n",
      "=====================================================================================================\n",
      "Contrast 2: phase1, phase2, phase3 vs phase4, phase5, phase6\n",
      "\n",
      "Levene p-value: 0.0078282126264377\n",
      "Unequal variance t-test stat: 8.002 ---- 8.001844700810185\n",
      "Unequal variance t-test p-value: 1.0260983162288306e-08\n",
      "n1: 21, n2: 36, degree of freedom (unequal variance): 28.0104090927572\n",
      "Reject the null hypothesis - SIGNIFICANT difference between groups\n",
      "=====================================================================================================\n",
      "Contrast 3: phase1, phase2 vs phase3\n",
      "\n",
      "Levene p-value: 0.055043334142563224\n",
      "Equal variance t-test stat: 3.16 ---- 3.1604260324130147\n",
      "Equal variance t-test p-value: 0.005\n",
      "n1: 12, n2: 9, Degrees of freedom (equal variance): 19\n",
      "Reject the null hypothesis - SIGNIFICANT difference between groups\n",
      "=====================================================================================================\n",
      "Contrast 4: phase4 vs phase5, phase6\n",
      "\n",
      "Levene p-value: 0.00013510854892727377\n",
      "Unequal variance t-test stat: -7.69 ---- -7.690023003627683\n",
      "Unequal variance t-test p-value: 2.4075309476833636e-08\n",
      "n1: 10, n2: 26, degree of freedom (unequal variance): 27.693728864111606\n",
      "Reject the null hypothesis - SIGNIFICANT difference between groups\n",
      "=====================================================================================================\n",
      "Contrast 5: phase1 vs phase2\n",
      "\n",
      "Levene p-value: 0.7938014611876558\n",
      "Equal variance t-test stat: -4.239 ---- -4.239349313392817\n",
      "Equal variance t-test p-value: 0.002\n",
      "n1: 5, n2: 7, Degrees of freedom (equal variance): 10\n",
      "Reject the null hypothesis - SIGNIFICANT difference between groups\n",
      "=====================================================================================================\n",
      "Contrast 6: phase5 vs phase6\n",
      "\n",
      "Levene p-value: 0.36579406902948164\n",
      "Equal variance t-test stat: -2.959 ---- -2.9589052802037896\n",
      "Equal variance t-test p-value: 0.007\n",
      "n1: 13, n2: 13, Degrees of freedom (equal variance): 24\n",
      "Reject the null hypothesis - SIGNIFICANT difference between groups\n",
      "=====================================================================================================\n"
     ]
    }
   ],
   "source": [
    "# contrast 1: 0 vs rest\n",
    "print(\"Contrast 1: 0 vs rest\\n\")\n",
    "\n",
    "stat_test(war_result['mean_posts'][war_result['phase'].isin([\"phase 0\"])], \n",
    "     war_result['mean_posts'][war_result['phase'].isin([\"phase 1\", \"phase 2\", \"phase 3\", \"phase 4\", \"phase 5\", \"phase 6\"])])\n",
    "\n",
    "print(\"=====================================================================================================\")\n",
    "\n",
    "# contrast 2: phase1, phase2, phase3 vs phase4, phase5, phase6\n",
    "print(\"Contrast 2: phase1, phase2, phase3 vs phase4, phase5, phase6\\n\")\n",
    "\n",
    "stat_test(war_result['mean_posts'][war_result['phase'].isin([\"phase 1\", \"phase 2\", \"phase 3\"])], \n",
    "     war_result['mean_posts'][war_result['phase'].isin([\"phase 4\", \"phase 5\", \"phase 6\"])])\n",
    "\n",
    "print(\"=====================================================================================================\")\n",
    "\n",
    "# contrast 3: phase1, phase2 vs phase3\n",
    "print(\"Contrast 3: phase1, phase2 vs phase3\\n\")\n",
    "\n",
    "stat_test(war_result['mean_posts'][war_result['phase'].isin([\"phase 1\", \"phase 2\"])],\n",
    "        war_result['mean_posts'][war_result['phase'].isin([\"phase 3\"])])\n",
    "\n",
    "print(\"=====================================================================================================\")\n",
    "\n",
    "# contrast 4: phase4 vs phase5, phase6\n",
    "print(\"Contrast 4: phase4 vs phase5, phase6\\n\")\n",
    "\n",
    "stat_test(war_result['mean_posts'][war_result['phase'].isin([\"phase 4\"])],\n",
    "        war_result['mean_posts'][war_result['phase'].isin([\"phase 5\", \"phase 6\"])])\n",
    "\n",
    "print(\"=====================================================================================================\")\n",
    "\n",
    "# contrast 5: phase1 vs phase2\n",
    "print(\"Contrast 5: phase1 vs phase2\\n\")\n",
    "\n",
    "stat_test(war_result['mean_posts'][war_result['phase'].isin([\"phase 1\"])],\n",
    "        war_result['mean_posts'][war_result['phase'].isin([\"phase 2\"])])\n",
    "\n",
    "print(\"=====================================================================================================\")\n",
    "\n",
    "# contrast 6: phase5 vs phase6\n",
    "print(\"Contrast 6: phase5 vs phase6\\n\")\n",
    "\n",
    "stat_test(war_result['mean_posts'][war_result['phase'].isin([\"phase 5\"])],\n",
    "        war_result['mean_posts'][war_result['phase'].isin([\"phase 6\"])])\n",
    "\n",
    "print(\"=====================================================================================================\")"
   ]
  },
  {
   "cell_type": "markdown",
   "id": "366ac8aa",
   "metadata": {},
   "source": [
    "### Topic 4: Ukrainian Domestic Affairs"
   ]
  },
  {
   "cell_type": "code",
   "execution_count": 20,
   "id": "8f27752a",
   "metadata": {},
   "outputs": [],
   "source": [
    "ukr_df = df[df['category'] == \"Ukranian domestic affairs\"]\n",
    "ukr_df['week_year'] = ukr_df['post_datetime'].dt.strftime('%Y-%W')\n",
    "ukr_df['weekday_number'] = ukr_df['post_datetime'].dt.weekday\n",
    "\n",
    "ukr_result = ukr_df.groupby(['phase', 'week_year']).agg(post_count=('post_id', 'count'),\n",
    "                                                    days_captured=('weekday_number', \n",
    "                                                                   lambda x: x.max() - x.min() + 1)).reset_index()\n",
    "\n",
    "ukr_result['mean_posts'] = round(ukr_result['post_count'] / ukr_result['days_captured']).astype(int)\n",
    "ukr_result = ukr_result[1:]\n",
    "ukr_result = ukr_result[~((ukr_result['phase'] == \"phase 6\") & (ukr_result['week_year'] == '2023-00'))]\n",
    "\n",
    "ukr_result = ukr_result.reset_index(drop=True)\n",
    "\n",
    "ukr_grouped_data = [ukr_result['mean_posts'][ukr_result['phase'] == phase] \n",
    "                    for phase in ukr_result['phase'].unique()]"
   ]
  },
  {
   "cell_type": "code",
   "execution_count": 22,
   "id": "6191c093",
   "metadata": {},
   "outputs": [],
   "source": [
    "# ukr_f_statistic, ukr_p_value = f_oneway(*ukr_grouped_data)\n",
    "# # Print the results\n",
    "# print(f'F-statistic: {ukr_f_statistic}')\n",
    "# print(f'P-value: {ukr_p_value}')"
   ]
  },
  {
   "cell_type": "code",
   "execution_count": 23,
   "id": "d29d9790",
   "metadata": {},
   "outputs": [
    {
     "name": "stdout",
     "output_type": "stream",
     "text": [
      "                 sum_sq    df          F        PR(>F)\n",
      "C(phase)  447742.278211   6.0  24.902783  1.719406e-14\n",
      "Residual  176799.479365  59.0        NaN           NaN\n"
     ]
    }
   ],
   "source": [
    "model = ols('mean_posts ~ C(phase)', ukr_result).fit()\n",
    "\n",
    "# Perform ANOVA and print the results\n",
    "aov_table = sm.stats.anova_lm(model, typ=2)\n",
    "print(aov_table)"
   ]
  },
  {
   "cell_type": "markdown",
   "id": "059069df",
   "metadata": {},
   "source": [
    "### Topic 5: Economy "
   ]
  },
  {
   "cell_type": "code",
   "execution_count": 24,
   "id": "d71d358e",
   "metadata": {},
   "outputs": [],
   "source": [
    "eco_df = df[df['category'] == \"Economy\"]\n",
    "eco_df['week_year'] = eco_df['post_datetime'].dt.strftime('%Y-%W')\n",
    "eco_df['weekday_number'] = eco_df['post_datetime'].dt.weekday\n",
    "\n",
    "eco_result = eco_df.groupby(['phase', 'week_year']).agg(post_count=('post_id', 'count'),\n",
    "                                                    days_captured=('weekday_number', \n",
    "                                                                   lambda x: x.max() - x.min() + 1)).reset_index()\n",
    "\n",
    "eco_result['mean_posts'] = round(eco_result['post_count'] / eco_result['days_captured']).astype(int)\n",
    "eco_result = eco_result[1:]\n",
    "eco_result = eco_result[~((eco_result['phase'] == \"phase 6\") & (eco_result['week_year'] == '2023-00'))]\n",
    "\n",
    "eco_result = eco_result.reset_index(drop=True)\n",
    "\n",
    "eco_grouped_data = [eco_result['mean_posts'][eco_result['phase'] == phase] \n",
    "                    for phase in eco_result['phase'].unique()]"
   ]
  },
  {
   "cell_type": "markdown",
   "id": "dbc67bbb",
   "metadata": {},
   "source": [
    "#### ANOVA results"
   ]
  },
  {
   "cell_type": "code",
   "execution_count": 25,
   "id": "4484e85d",
   "metadata": {},
   "outputs": [
    {
     "name": "stdout",
     "output_type": "stream",
     "text": [
      "                 sum_sq    df          F        PR(>F)\n",
      "C(phase)  140352.970596   6.0  30.668319  2.057637e-16\n",
      "Residual   45002.059707  59.0        NaN           NaN\n"
     ]
    }
   ],
   "source": [
    "model = ols('mean_posts ~ C(phase)', eco_result).fit()\n",
    "\n",
    "# Perform ANOVA and print the results\n",
    "aov_table = sm.stats.anova_lm(model, typ=2)\n",
    "print(aov_table)"
   ]
  },
  {
   "cell_type": "markdown",
   "id": "9e0bf673",
   "metadata": {},
   "source": [
    "#### t-test results"
   ]
  },
  {
   "cell_type": "code",
   "execution_count": 26,
   "id": "e301f6d1",
   "metadata": {},
   "outputs": [
    {
     "name": "stdout",
     "output_type": "stream",
     "text": [
      "Contrast 1: 0 vs rest\n",
      "\n",
      "Levene p-value: 0.2104789983120505\n",
      "Equal variance t-test stat: -1.996 ---- -1.995703723306359\n",
      "Equal variance t-test p-value: 0.05\n",
      "n1: 8, n2: 58, Degrees of freedom (equal variance): 64\n",
      "Fail to reject the null hypothesis - NO-SIGNIFICANT difference between groups\n",
      "=====================================================================================================\n",
      "Contrast 2: phase1, phase2, phase3 vs phase4, phase5, phase6\n",
      "\n",
      "Levene p-value: 0.0016011093310993052\n",
      "Unequal variance t-test stat: 4.935 ---- 4.934972686518643\n",
      "Unequal variance t-test p-value: 5.695977394513173e-05\n",
      "n1: 22, n2: 36, degree of freedom (unequal variance): 22.667528980704525\n",
      "Reject the null hypothesis - SIGNIFICANT difference between groups\n",
      "=====================================================================================================\n",
      "Contrast 3: phase1, phase2 vs phase3\n",
      "\n",
      "Levene p-value: 0.054921361918412945\n",
      "Equal variance t-test stat: 0.502 ---- 0.5020032320709616\n",
      "Equal variance t-test p-value: 0.621\n",
      "n1: 13, n2: 9, Degrees of freedom (equal variance): 20\n",
      "Fail to reject the null hypothesis - NO-SIGNIFICANT difference between groups\n",
      "=====================================================================================================\n",
      "Contrast 4: phase4 vs phase5, phase6\n",
      "\n",
      "Levene p-value: 0.7157761947295946\n",
      "Equal variance t-test stat: 1.983 ---- 1.9825590487546916\n",
      "Equal variance t-test p-value: 0.056\n",
      "n1: 10, n2: 26, Degrees of freedom (equal variance): 34\n",
      "Fail to reject the null hypothesis - NO-SIGNIFICANT difference between groups\n",
      "=====================================================================================================\n",
      "Contrast 5: phase1 vs phase2\n",
      "\n",
      "Levene p-value: 0.002239729957686996\n",
      "Unequal variance t-test stat: 3.988 ---- 3.9882366322674\n",
      "Unequal variance t-test p-value: 0.009887101948549245\n",
      "n1: 6, n2: 7, degree of freedom (unequal variance): 5.137775997711459\n",
      "Reject the null hypothesis - SIGNIFICANT difference between groups\n",
      "=====================================================================================================\n",
      "Contrast 6: phase5 vs phase6\n",
      "\n",
      "Levene p-value: 0.07628076351238684\n",
      "Equal variance t-test stat: 3.201 ---- 3.201436253925862\n",
      "Equal variance t-test p-value: 0.004\n",
      "n1: 13, n2: 13, Degrees of freedom (equal variance): 24\n",
      "Reject the null hypothesis - SIGNIFICANT difference between groups\n",
      "=====================================================================================================\n"
     ]
    }
   ],
   "source": [
    "# contrast 1: 0 vs rest\n",
    "print(\"Contrast 1: 0 vs rest\\n\")\n",
    "\n",
    "stat_test(eco_result['mean_posts'][eco_result['phase'].isin([\"phase 0\"])], \n",
    "     eco_result['mean_posts'][eco_result['phase'].isin([\"phase 1\", \"phase 2\", \"phase 3\", \"phase 4\", \"phase 5\", \"phase 6\"])])\n",
    "\n",
    "print(\"=====================================================================================================\")\n",
    "\n",
    "# contrast 2: phase1, phase2, phase3 vs phase4, phase5, phase6\n",
    "print(\"Contrast 2: phase1, phase2, phase3 vs phase4, phase5, phase6\\n\")\n",
    "\n",
    "stat_test(eco_result['mean_posts'][eco_result['phase'].isin([\"phase 1\", \"phase 2\", \"phase 3\"])], \n",
    "     eco_result['mean_posts'][eco_result['phase'].isin([\"phase 4\", \"phase 5\", \"phase 6\"])])\n",
    "\n",
    "print(\"=====================================================================================================\")\n",
    "\n",
    "# contrast 3: phase1, phase2 vs phase3\n",
    "print(\"Contrast 3: phase1, phase2 vs phase3\\n\")\n",
    "\n",
    "stat_test(eco_result['mean_posts'][eco_result['phase'].isin([\"phase 1\", \"phase 2\"])],\n",
    "        eco_result['mean_posts'][eco_result['phase'].isin([\"phase 3\"])])\n",
    "\n",
    "print(\"=====================================================================================================\")\n",
    "\n",
    "# contrast 4: phase4 vs phase5, phase6\n",
    "print(\"Contrast 4: phase4 vs phase5, phase6\\n\")\n",
    "\n",
    "stat_test(eco_result['mean_posts'][eco_result['phase'].isin([\"phase 4\"])],\n",
    "        eco_result['mean_posts'][eco_result['phase'].isin([\"phase 5\", \"phase 6\"])])\n",
    "\n",
    "print(\"=====================================================================================================\")\n",
    "\n",
    "# contrast 5: phase1 vs phase2\n",
    "print(\"Contrast 5: phase1 vs phase2\\n\")\n",
    "\n",
    "stat_test(eco_result['mean_posts'][eco_result['phase'].isin([\"phase 1\"])],\n",
    "        eco_result['mean_posts'][eco_result['phase'].isin([\"phase 2\"])])\n",
    "\n",
    "print(\"=====================================================================================================\")\n",
    "\n",
    "# contrast 6: phase5 vs phase6\n",
    "print(\"Contrast 6: phase5 vs phase6\\n\")\n",
    "\n",
    "stat_test(eco_result['mean_posts'][eco_result['phase'].isin([\"phase 5\"])],\n",
    "        eco_result['mean_posts'][eco_result['phase'].isin([\"phase 6\"])])\n",
    "\n",
    "print(\"=====================================================================================================\")"
   ]
  },
  {
   "cell_type": "markdown",
   "id": "ea4e226a",
   "metadata": {},
   "source": [
    "##### Tukey's test"
   ]
  },
  {
   "cell_type": "code",
   "execution_count": 45,
   "id": "9cd3b7d4",
   "metadata": {},
   "outputs": [
    {
     "name": "stdout",
     "output_type": "stream",
     "text": [
      "Tukey result comparision between phase 3 and phase 4: ['phase 2', 'phase 6', -28.7033, 0.3024, -68.2231, 10.8166, False]\n",
      "Tukey result comparision between phase 4 and phase 5: ['phase 4', 'phase 5', -2.8154, 1.0, -38.2733, 32.6425, False]\n"
     ]
    }
   ],
   "source": [
    "# Run Tukey's test\n",
    "tukey = pairwise_tukeyhsd(endog=eco_result['mean_posts'],  # Data\n",
    "                          groups=eco_result['phase'],  # Groups\n",
    "                          alpha=0.05)  # Significance level\n",
    "\n",
    "# Order of results: meandiff, p-adj, lower, upper, reject\n",
    "print(\"Tukey result comparision between phase 3 and phase 4:\", tukey._results_table.data[15])\n",
    "\n",
    "print(\"Tukey result comparision between phase 4 and phase 5:\", tukey._results_table.data[-3])"
   ]
  }
 ],
 "metadata": {
  "kernelspec": {
   "display_name": "Python 3.9.12 ('base')",
   "language": "python",
   "name": "python3"
  },
  "language_info": {
   "codemirror_mode": {
    "name": "ipython",
    "version": 3
   },
   "file_extension": ".py",
   "mimetype": "text/x-python",
   "name": "python",
   "nbconvert_exporter": "python",
   "pygments_lexer": "ipython3",
   "version": "3.9.6"
  },
  "vscode": {
   "interpreter": {
    "hash": "40d3a090f54c6569ab1632332b64b2c03c39dcf918b08424e98f38b5ae0af88f"
   }
  }
 },
 "nbformat": 4,
 "nbformat_minor": 5
}
